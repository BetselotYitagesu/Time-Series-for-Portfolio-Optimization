{
 "cells": [
  {
   "cell_type": "markdown",
   "id": "b6f98ee3",
   "metadata": {},
   "source": [
    "# Task 3 – Forecast Future Market Trends\n",
    "\n",
    "In this task, we forecast Tesla's stock prices for the next 6–12 months using two models:  \n",
    "- **ARIMA** (classical statistical time series model)  \n",
    "- **LSTM** (deep learning recurrent neural network)  \n",
    "\n",
    "We will:\n",
    "1. Load processed Tesla stock data.\n",
    "2. Fit ARIMA and LSTM models.\n",
    "3. Generate 12-month forecasts with confidence intervals.\n",
    "4. Visualize results and analyze trends, volatility, and risks.\n"
   ]
  },
  {
   "cell_type": "code",
   "execution_count": null,
   "id": "b111cfe2",
   "metadata": {},
   "outputs": [
    {
     "ename": "ModuleNotFoundError",
     "evalue": "No module named 'src'",
     "output_type": "error",
     "traceback": [
      "\u001b[31m---------------------------------------------------------------------------\u001b[39m",
      "\u001b[31mModuleNotFoundError\u001b[39m                       Traceback (most recent call last)",
      "\u001b[36mCell\u001b[39m\u001b[36m \u001b[39m\u001b[32mIn[4]\u001b[39m\u001b[32m, line 4\u001b[39m\n\u001b[32m      2\u001b[39m \u001b[38;5;28;01mimport\u001b[39;00m\u001b[38;5;250m \u001b[39m\u001b[34;01mpandas\u001b[39;00m\u001b[38;5;250m \u001b[39m\u001b[38;5;28;01mas\u001b[39;00m\u001b[38;5;250m \u001b[39m\u001b[34;01mpd\u001b[39;00m\n\u001b[32m      3\u001b[39m \u001b[38;5;28;01mimport\u001b[39;00m\u001b[38;5;250m \u001b[39m\u001b[34;01mmatplotlib\u001b[39;00m\u001b[34;01m.\u001b[39;00m\u001b[34;01mpyplot\u001b[39;00m\u001b[38;5;250m \u001b[39m\u001b[38;5;28;01mas\u001b[39;00m\u001b[38;5;250m \u001b[39m\u001b[34;01mplt\u001b[39;00m\n\u001b[32m----> \u001b[39m\u001b[32m4\u001b[39m \u001b[38;5;28;01mfrom\u001b[39;00m\u001b[38;5;250m \u001b[39m\u001b[34;01msrc\u001b[39;00m\u001b[34;01m.\u001b[39;00m\u001b[34;01mforecasting\u001b[39;00m\u001b[38;5;250m \u001b[39m\u001b[38;5;28;01mimport\u001b[39;00m (\n\u001b[32m      5\u001b[39m     arima_forecast,\n\u001b[32m      6\u001b[39m     lstm_forecast\n\u001b[32m      7\u001b[39m )\n\u001b[32m      9\u001b[39m \u001b[38;5;66;03m# 2. Load processed data\u001b[39;00m\n\u001b[32m     10\u001b[39m df = pd.read_csv(\u001b[33m\"\u001b[39m\u001b[33m../data/processed/TSLA_processed.csv\u001b[39m\u001b[33m\"\u001b[39m, parse_dates=[\u001b[33m\"\u001b[39m\u001b[33mdate\u001b[39m\u001b[33m\"\u001b[39m], index_col=\u001b[33m\"\u001b[39m\u001b[33mdate\u001b[39m\u001b[33m\"\u001b[39m)\n",
      "\u001b[31mModuleNotFoundError\u001b[39m: No module named 'src'"
     ]
    }
   ],
   "source": [
    "# 1. Imports\n",
    "import pandas as pd\n",
    "import matplotlib.pyplot as plt\n",
    "from src.forecasting import arima_forecast, moving_average_forecast\n",
    "\n",
    "\n",
    "# 2. Load processed data\n",
    "df = pd.read_csv(\"../data/processed/TSLA_processed.csv\", parse_dates=[\"date\"], index_col=\"date\")\n",
    "df = df.asfreq(\"B\")  # ensure business day frequency\n",
    "df = df.fillna(method=\"ffill\")\n",
    "\n",
    "df.tail()\n"
   ]
  }
 ],
 "metadata": {
  "kernelspec": {
   "display_name": ".venv (3.13.3)",
   "language": "python",
   "name": "python3"
  },
  "language_info": {
   "codemirror_mode": {
    "name": "ipython",
    "version": 3
   },
   "file_extension": ".py",
   "mimetype": "text/x-python",
   "name": "python",
   "nbconvert_exporter": "python",
   "pygments_lexer": "ipython3",
   "version": "3.13.3"
  }
 },
 "nbformat": 4,
 "nbformat_minor": 5
}
