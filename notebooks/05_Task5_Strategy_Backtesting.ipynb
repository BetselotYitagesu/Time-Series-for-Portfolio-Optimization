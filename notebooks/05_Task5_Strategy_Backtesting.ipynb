{
 "cells": [
  {
   "cell_type": "markdown",
   "id": "2360f422",
   "metadata": {},
   "source": [
    "## 1. Setup and Load Data\n",
    "\n",
    "Load processed price data for Tesla, SPY, and BND.\n",
    "\n",
    "Set backtesting window from August 1, 2024, to July 31, 2025.\n"
   ]
  },
  {
   "cell_type": "code",
   "execution_count": 2,
   "id": "52ce266b",
   "metadata": {},
   "outputs": [],
   "source": [
    "import pandas as pd\n",
    "import numpy as np\n",
    "import matplotlib.pyplot as plt\n",
    "\n",
    "plt.style.use(\"seaborn-v0_8\")\n",
    "\n",
    "# Load processed data for all assets\n",
    "tsla = pd.read_csv(\"../data/processed/TSLA_processed.csv\", parse_dates=[\"date\"], index_col=\"date\").sort_index()\n",
    "\n",
    "# Define backtesting period\n",
    "start_date = \"2024-08-01\"\n",
    "end_date = \"2025-07-31\"\n",
    "\n",
    "# Slice data to backtesting window\n",
    "tsla_bt = tsla.loc[start_date:end_date]\n",
    "\n"
   ]
  },
  {
   "cell_type": "markdown",
   "id": "dc414ee0",
   "metadata": {},
   "source": [
    "## 2. Define Portfolio Weights\n",
    "\n",
    "- Strategy portfolio: Tesla-only from Task 4 (weight=1.0)\n",
    "- Benchmark portfolio: static 60% SPY, 40% BND\n"
   ]
  },
  {
   "cell_type": "code",
   "execution_count": 3,
   "id": "195f6b33",
   "metadata": {},
   "outputs": [],
   "source": [
    "# Strategy portfolio weights (Tesla only)\n",
    "weights_strategy = np.array([1.0])  # Tesla only\n",
    "\n",
    "# Benchmark portfolio weights\n",
    "weights_benchmark = np.array([0.6, 0.4])  # 60% SPY, 40% BND\n"
   ]
  },
  {
   "cell_type": "markdown",
   "id": "9e09295d",
   "metadata": {},
   "source": [
    "## 3. Calculate Daily Returns\n",
    "\n",
    "Calculate daily returns for each asset during backtesting period.\n"
   ]
  },
  {
   "cell_type": "code",
   "execution_count": 4,
   "id": "a984e513",
   "metadata": {},
   "outputs": [],
   "source": [
    "# Extract daily returns\n",
    "tsla_returns = tsla_bt[\"daily_return\"]\n",
    "\n"
   ]
  },
  {
   "cell_type": "markdown",
   "id": "0eb42589",
   "metadata": {},
   "source": [
    "## 4. Calculate Portfolio Returns Over Time\n",
    "\n",
    "- Strategy: Tesla-only returns\n",
    "- Benchmark: weighted sum of SPY and BND returns\n"
   ]
  },
  {
   "cell_type": "code",
   "execution_count": null,
   "id": "dfab6c48",
   "metadata": {},
   "outputs": [],
   "source": [
    "# Strategy portfolio returns (Tesla only)\n",
    "portfolio_returns_strategy = tsla_returns  # weight=1\n",
    "\n",
    "# Benchmark portfolio returns\n",
    "portfolio_returns_benchmark = weights_benchmark[0] * spy_returns + weights_benchmark[1] * bnd_returns\n"
   ]
  },
  {
   "cell_type": "markdown",
   "id": "bb91c73b",
   "metadata": {},
   "source": [
    "## 5. Compute Cumulative Returns\n",
    "\n",
    "Calculate cumulative returns starting at 1 (100%).\n"
   ]
  },
  {
   "cell_type": "code",
   "execution_count": null,
   "id": "a0151efe",
   "metadata": {},
   "outputs": [],
   "source": [
    "cumulative_strategy = (1 + portfolio_returns_strategy).cumprod()\n",
    "cumulative_benchmark = (1 + portfolio_returns_benchmark).cumprod()\n"
   ]
  },
  {
   "cell_type": "markdown",
   "id": "e723b7e4",
   "metadata": {},
   "source": [
    "## 6. Calculate Performance Metrics\n",
    "\n",
    "- Total return over period\n",
    "- Annualized Sharpe Ratio (assume 252 trading days, risk-free rate 2%)\n"
   ]
  },
  {
   "cell_type": "code",
   "execution_count": null,
   "id": "b27410a6",
   "metadata": {},
   "outputs": [],
   "source": [
    "rf = 0.02  # annual risk-free rate\n",
    "trading_days = 252\n",
    "period_days = len(portfolio_returns_strategy)\n",
    "\n",
    "def sharpe_ratio(returns, rf=0.0):\n",
    "    excess_returns = returns - rf / trading_days\n",
    "    return np.sqrt(trading_days) * excess_returns.mean() / excess_returns.std()\n",
    "\n",
    "total_return_strategy = cumulative_strategy[-1] - 1\n",
    "total_return_benchmark = cumulative_benchmark[-1] - 1\n",
    "\n",
    "sharpe_strategy = sharpe_ratio(portfolio_returns_strategy, rf)\n",
    "sharpe_benchmark = sharpe_ratio(portfolio_returns_benchmark, rf)\n",
    "\n",
    "print(f\"Strategy Total Return: {total_return_strategy:.2%}\")\n",
    "print(f\"Strategy Sharpe Ratio: {sharpe_strategy:.2f}\")\n",
    "print(f\"Benchmark Total Return: {total_return_benchmark:.2%}\")\n",
    "print(f\"Benchmark Sharpe Ratio: {sharpe_benchmark:.2f}\")\n"
   ]
  }
 ],
 "metadata": {
  "kernelspec": {
   "display_name": ".venv (3.13.3)",
   "language": "python",
   "name": "python3"
  },
  "language_info": {
   "codemirror_mode": {
    "name": "ipython",
    "version": 3
   },
   "file_extension": ".py",
   "mimetype": "text/x-python",
   "name": "python",
   "nbconvert_exporter": "python",
   "pygments_lexer": "ipython3",
   "version": "3.13.3"
  }
 },
 "nbformat": 4,
 "nbformat_minor": 5
}
